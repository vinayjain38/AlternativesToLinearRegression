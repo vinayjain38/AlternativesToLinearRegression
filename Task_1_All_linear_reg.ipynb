{
  "nbformat": 4,
  "nbformat_minor": 0,
  "metadata": {
    "colab": {
      "name": "Task 1 All linear reg.ipynb",
      "provenance": [],
      "collapsed_sections": []
    },
    "kernelspec": {
      "name": "python3",
      "display_name": "Python 3"
    }
  },
  "cells": [
    {
      "cell_type": "markdown",
      "metadata": {
        "id": "leVFNbDwx2fM"
      },
      "source": [
        "# **Task 1 : Prediction using Supervised ML**\n",
        "### Problem Statement: Predict the percentage of a student based on the no. of hours studied by the student. "
      ]
    },
    {
      "cell_type": "markdown",
      "metadata": {
        "id": "trragQs4XnoT"
      },
      "source": [
        "Name: Vinay Jain \n",
        "\n",
        "Position: Data science and Business analytics intern\n",
        "\n",
        "Organisation: The Sparks Foundation"
      ]
    },
    {
      "cell_type": "code",
      "metadata": {
        "id": "rfOS9WVox0u8"
      },
      "source": [
        "import pandas as pd\n",
        "import numpy as np\n",
        "import matplotlib.pyplot as plt\n",
        "%matplotlib inline\n",
        "import warnings\n",
        "warnings.filterwarnings('ignore')"
      ],
      "execution_count": null,
      "outputs": []
    },
    {
      "cell_type": "code",
      "metadata": {
        "colab": {
          "base_uri": "https://localhost:8080/",
          "height": 376
        },
        "id": "_oRYyTskehyX",
        "outputId": "a3a99030-b038-460b-dcff-b74dd3e7faa8"
      },
      "source": [
        "url = \"http://bit.ly/w-data\"\n",
        "s_data = pd.read_csv(url)\n",
        "print(\"Data imported successfully\")\n",
        "s_data.head(10)"
      ],
      "execution_count": null,
      "outputs": [
        {
          "output_type": "stream",
          "text": [
            "Data imported successfully\n"
          ],
          "name": "stdout"
        },
        {
          "output_type": "execute_result",
          "data": {
            "text/html": [
              "<div>\n",
              "<style scoped>\n",
              "    .dataframe tbody tr th:only-of-type {\n",
              "        vertical-align: middle;\n",
              "    }\n",
              "\n",
              "    .dataframe tbody tr th {\n",
              "        vertical-align: top;\n",
              "    }\n",
              "\n",
              "    .dataframe thead th {\n",
              "        text-align: right;\n",
              "    }\n",
              "</style>\n",
              "<table border=\"1\" class=\"dataframe\">\n",
              "  <thead>\n",
              "    <tr style=\"text-align: right;\">\n",
              "      <th></th>\n",
              "      <th>Hours</th>\n",
              "      <th>Scores</th>\n",
              "    </tr>\n",
              "  </thead>\n",
              "  <tbody>\n",
              "    <tr>\n",
              "      <th>0</th>\n",
              "      <td>2.5</td>\n",
              "      <td>21</td>\n",
              "    </tr>\n",
              "    <tr>\n",
              "      <th>1</th>\n",
              "      <td>5.1</td>\n",
              "      <td>47</td>\n",
              "    </tr>\n",
              "    <tr>\n",
              "      <th>2</th>\n",
              "      <td>3.2</td>\n",
              "      <td>27</td>\n",
              "    </tr>\n",
              "    <tr>\n",
              "      <th>3</th>\n",
              "      <td>8.5</td>\n",
              "      <td>75</td>\n",
              "    </tr>\n",
              "    <tr>\n",
              "      <th>4</th>\n",
              "      <td>3.5</td>\n",
              "      <td>30</td>\n",
              "    </tr>\n",
              "    <tr>\n",
              "      <th>5</th>\n",
              "      <td>1.5</td>\n",
              "      <td>20</td>\n",
              "    </tr>\n",
              "    <tr>\n",
              "      <th>6</th>\n",
              "      <td>9.2</td>\n",
              "      <td>88</td>\n",
              "    </tr>\n",
              "    <tr>\n",
              "      <th>7</th>\n",
              "      <td>5.5</td>\n",
              "      <td>60</td>\n",
              "    </tr>\n",
              "    <tr>\n",
              "      <th>8</th>\n",
              "      <td>8.3</td>\n",
              "      <td>81</td>\n",
              "    </tr>\n",
              "    <tr>\n",
              "      <th>9</th>\n",
              "      <td>2.7</td>\n",
              "      <td>25</td>\n",
              "    </tr>\n",
              "  </tbody>\n",
              "</table>\n",
              "</div>"
            ],
            "text/plain": [
              "   Hours  Scores\n",
              "0    2.5      21\n",
              "1    5.1      47\n",
              "2    3.2      27\n",
              "3    8.5      75\n",
              "4    3.5      30\n",
              "5    1.5      20\n",
              "6    9.2      88\n",
              "7    5.5      60\n",
              "8    8.3      81\n",
              "9    2.7      25"
            ]
          },
          "metadata": {
            "tags": []
          },
          "execution_count": 2
        }
      ]
    },
    {
      "cell_type": "code",
      "metadata": {
        "id": "SWQ7rTLOpTNe"
      },
      "source": [
        "X = np.array(s_data.iloc[:, 0].values)\n",
        "# X = s_data.drop(\"Scores\",axis=1)\n",
        "y = np.array(s_data.iloc[:, 1].values)"
      ],
      "execution_count": null,
      "outputs": []
    },
    {
      "cell_type": "code",
      "metadata": {
        "colab": {
          "base_uri": "https://localhost:8080/"
        },
        "id": "HfA_tMraqJqQ",
        "outputId": "dfee0273-c76a-4c9d-9d29-88ffc157f1c3"
      },
      "source": [
        "X.shape,y.shape"
      ],
      "execution_count": null,
      "outputs": [
        {
          "output_type": "execute_result",
          "data": {
            "text/plain": [
              "((25,), (25,))"
            ]
          },
          "metadata": {
            "tags": []
          },
          "execution_count": 4
        }
      ]
    },
    {
      "cell_type": "code",
      "metadata": {
        "id": "1kcp2vH587gd"
      },
      "source": [
        "from sklearn.model_selection import train_test_split  \n",
        "X_train, X_test, y_train, y_test = train_test_split(X, y, \n",
        "                            test_size=0.2, random_state=0)"
      ],
      "execution_count": null,
      "outputs": []
    },
    {
      "cell_type": "code",
      "metadata": {
        "colab": {
          "base_uri": "https://localhost:8080/"
        },
        "id": "QQ7v5G_CXlYz",
        "outputId": "2d1370b0-6e9d-45cf-98d7-d5d5d8fa472b"
      },
      "source": [
        "X_train.shape, X_test.shape, y_train.shape, y_test.shape"
      ],
      "execution_count": null,
      "outputs": [
        {
          "output_type": "execute_result",
          "data": {
            "text/plain": [
              "((20,), (5,), (20,), (5,))"
            ]
          },
          "metadata": {
            "tags": []
          },
          "execution_count": 6
        }
      ]
    },
    {
      "cell_type": "markdown",
      "metadata": {
        "id": "W1dBLNEjxHki"
      },
      "source": [
        "# Simple Linear Regression:"
      ]
    },
    {
      "cell_type": "code",
      "metadata": {
        "id": "t43GnLlNweVH",
        "colab": {
          "base_uri": "https://localhost:8080/"
        },
        "outputId": "a941f39a-7614-422e-b6a9-575f29c8e584"
      },
      "source": [
        "from sklearn.linear_model import LinearRegression  \n",
        "regressor = LinearRegression()  \n",
        "regressor.fit(X_train.reshape(-1,1), y_train.reshape(-1,1)) "
      ],
      "execution_count": null,
      "outputs": [
        {
          "output_type": "execute_result",
          "data": {
            "text/plain": [
              "LinearRegression(copy_X=True, fit_intercept=True, n_jobs=None, normalize=False)"
            ]
          },
          "metadata": {
            "tags": []
          },
          "execution_count": 7
        }
      ]
    },
    {
      "cell_type": "code",
      "metadata": {
        "id": "pdoDy_x2wnZF",
        "colab": {
          "base_uri": "https://localhost:8080/"
        },
        "outputId": "b4616832-0faa-419e-9137-7e4f0e609f69"
      },
      "source": [
        "y_pred = regressor.predict(X_test.reshape(-1,1))\n",
        "from sklearn.metrics import mean_squared_error\n",
        "from sklearn.metrics import mean_absolute_error\n",
        "mse = mean_squared_error(y_test,y_pred)\n",
        "mae = mean_absolute_error(y_test,y_pred)\n",
        "print(\"MSE for linregress:\",mse)\n",
        "print(\"MAE for linregress:\",mae)"
      ],
      "execution_count": null,
      "outputs": [
        {
          "output_type": "stream",
          "text": [
            "MSE for linregress: 21.598769307217456\n",
            "MAE for linregress: 4.183859899002982\n"
          ],
          "name": "stdout"
        }
      ]
    },
    {
      "cell_type": "code",
      "metadata": {
        "colab": {
          "base_uri": "https://localhost:8080/",
          "height": 265
        },
        "id": "FvqytQBEZ6ff",
        "outputId": "3447da92-3d4a-4634-b264-180de7cc2de4"
      },
      "source": [
        "plt.scatter(X_train,y_train)\n",
        "plt.plot(X_train.reshape(-1,1),regressor.predict(X_train.reshape(-1, 1)),color=\"red\")\n",
        "plt.grid()\n",
        "plt.show()"
      ],
      "execution_count": null,
      "outputs": [
        {
          "output_type": "display_data",
          "data": {
            "image/png": "[encoded data removed]",
            "text/plain": [
              "<Figure size 432x288 with 1 Axes>"
            ]
          },
          "metadata": {
            "tags": [],
            "needs_background": "light"
          }
        }
      ]
    },
    {
      "cell_type": "code",
      "metadata": {
        "colab": {
          "base_uri": "https://localhost:8080/"
        },
        "id": "E7BnhbuRrpee",
        "outputId": "ac3d447b-fa30-4489-b9e4-c2f04543829e"
      },
      "source": [
        "x=9.25\n",
        "a=regressor.predict([[x]])\n",
        "print(\"If a student studies for {} hours per day, then he/she will score {}% in exam\".format(x,a))"
      ],
      "execution_count": null,
      "outputs": [
        {
          "output_type": "stream",
          "text": [
            "If a student studies for 9.25 hours per day, then he/she will score [[93.69173249]]% in exam\n"
          ],
          "name": "stdout"
        }
      ]
    },
    {
      "cell_type": "markdown",
      "metadata": {
        "id": "lalpH5jX7dTV"
      },
      "source": [
        "# Methods which can be used apart from Simple Linear Regression\n",
        "### (Just for learning purpose)"
      ]
    },
    {
      "cell_type": "markdown",
      "metadata": {
        "id": "5VliMiMunPOz"
      },
      "source": [
        "## Linregress"
      ]
    },
    {
      "cell_type": "code",
      "metadata": {
        "id": "BtR82xMBazo_",
        "colab": {
          "base_uri": "https://localhost:8080/"
        },
        "outputId": "fcd369f3-6c08-43b4-a31a-e14efb78cc5a"
      },
      "source": [
        "import scipy\n",
        "linregress = scipy.stats.linregress(X_train,y_train)\n",
        "print(\"Slope:\",linregress.slope)\n",
        "print(\"coefficient/intercept:\",linregress.intercept)\n",
        "y_pred = linregress.intercept + linregress.slope*X_test\n",
        "print(\"Predicted value:\",y_pred)\n",
        "print(\"Actual value\",y_test)"
      ],
      "execution_count": null,
      "outputs": [
        {
          "output_type": "stream",
          "text": [
            "Slope: 9.910656480642237\n",
            "coefficient/intercept: 2.018160041434683\n",
            "Predicted value: [16.88414476 33.73226078 75.357018   26.79480124 60.49103328]\n",
            "Actual value [20 27 69 30 62]\n"
          ],
          "name": "stdout"
        }
      ]
    },
    {
      "cell_type": "code",
      "metadata": {
        "colab": {
          "base_uri": "https://localhost:8080/"
        },
        "id": "-bVCY8CNqmqp",
        "outputId": "6a505781-75b0-4a1d-d091-1f87c40820bb"
      },
      "source": [
        "ypred= linregress.slope*9.25 + linregress.intercept\n",
        "print(\"Our model predicted:\",ypred,\"for 9.25hrs of study hours\")"
      ],
      "execution_count": null,
      "outputs": [
        {
          "output_type": "stream",
          "text": [
            "Our model predicted: 93.69173248737538 for 9.25hrs of study hours\n"
          ],
          "name": "stdout"
        }
      ]
    },
    {
      "cell_type": "code",
      "metadata": {
        "colab": {
          "base_uri": "https://localhost:8080/"
        },
        "id": "sBPyB0zCqcG9",
        "outputId": "4e8872be-9910-4bd5-ed08-799978ed7a03"
      },
      "source": [
        "from sklearn.metrics import mean_squared_error\n",
        "from sklearn.metrics import mean_absolute_error\n",
        "mse = mean_squared_error(y_test[3].reshape(-1,1),ypred.reshape(-1,1))\n",
        "mae = mean_absolute_error(y_test[3].reshape(-1,1),ypred.reshape(-1,1))\n",
        "print(\"MSE for linregress:\",mse)\n",
        "print(\"MAE for linregress:\",mae)"
      ],
      "execution_count": null,
      "outputs": [
        {
          "output_type": "stream",
          "text": [
            "MSE for linregress: 4056.636787243388\n",
            "MAE for linregress: 63.691732487375376\n"
          ],
          "name": "stdout"
        }
      ]
    },
    {
      "cell_type": "code",
      "metadata": {
        "colab": {
          "base_uri": "https://localhost:8080/",
          "height": 265
        },
        "id": "NtduKKG9WmwG",
        "outputId": "7c79c2ef-18b2-41c6-c584-9419591fe06c"
      },
      "source": [
        "plt.plot(X, y, 'o', label='original data')\n",
        "plt.plot(X, linregress.intercept + linregress.slope*X, 'r', label='fitted line')\n",
        "plt.legend()\n",
        "plt.show()"
      ],
      "execution_count": null,
      "outputs": [
        {
          "output_type": "display_data",
          "data": {
            "image/png": "[encoded data removed]",
            "text/plain": [
              "<Figure size 432x288 with 1 Axes>"
            ]
          },
          "metadata": {
            "tags": [],
            "needs_background": "light"
          }
        }
      ]
    },
    {
      "cell_type": "markdown",
      "metadata": {
        "id": "jmZc1jZPnd-M"
      },
      "source": [
        "## Polyfit"
      ]
    },
    {
      "cell_type": "code",
      "metadata": {
        "id": "EfmZ8M2pn97m"
      },
      "source": [
        "model = np.polyfit(X_train, y_train, 1)\n",
        "predict = np.poly1d(model)"
      ],
      "execution_count": null,
      "outputs": []
    },
    {
      "cell_type": "code",
      "metadata": {
        "id": "C2a1eZKsWnAZ",
        "colab": {
          "base_uri": "https://localhost:8080/"
        },
        "outputId": "2ad3329a-8d3a-4553-98a9-74f01e047782"
      },
      "source": [
        "hours_studied = 9.25\n",
        "print(\"Predicted value:\",predict(hours_studied))\n",
        "\n",
        "print(\"Predicted value:\",predict(X_test))\n",
        "print(\"Actual value\",y_test)"
      ],
      "execution_count": null,
      "outputs": [
        {
          "output_type": "stream",
          "text": [
            "Predicted value: 93.69173248737538\n",
            "Predicted value: [16.88414476 33.73226078 75.357018   26.79480124 60.49103328]\n",
            "Actual value [20 27 69 30 62]\n"
          ],
          "name": "stdout"
        }
      ]
    },
    {
      "cell_type": "code",
      "metadata": {
        "colab": {
          "base_uri": "https://localhost:8080/"
        },
        "id": "9tVT5dbhuCQD",
        "outputId": "ac9aff10-b2e5-475e-f193-88b3346e4326"
      },
      "source": [
        "mse = mean_squared_error(y_test,y_pred)\n",
        "mae = mean_absolute_error(y_test,y_pred)\n",
        "print(\"MSE for Polyfit:\",mse)\n",
        "print(\"MAE for Polyfit:\",mae)"
      ],
      "execution_count": null,
      "outputs": [
        {
          "output_type": "stream",
          "text": [
            "MSE for Polyfit: 21.5987693072174\n",
            "MAE for Polyfit: 4.183859899002975\n"
          ],
          "name": "stdout"
        }
      ]
    },
    {
      "cell_type": "code",
      "metadata": {
        "id": "C2_iQyYuWnEC",
        "colab": {
          "base_uri": "https://localhost:8080/",
          "height": 298
        },
        "outputId": "bc6eb16c-560b-42bb-fd18-3d79e70318a8"
      },
      "source": [
        "x_lin_reg = range(0, 11)\n",
        "y_lin_reg = predict(x_lin_reg)\n",
        "plt.title('Polynomial/polyfit')\n",
        "plt.scatter(X, y)\n",
        "plt.plot(x_lin_reg, y_lin_reg, c = 'r')"
      ],
      "execution_count": null,
      "outputs": [
        {
          "output_type": "execute_result",
          "data": {
            "text/plain": [
              "[<matplotlib.lines.Line2D at 0x7f8e53f75b50>]"
            ]
          },
          "metadata": {
            "tags": []
          },
          "execution_count": 18
        },
        {
          "output_type": "display_data",
          "data": {
            "image/png": "[encoded data removed]",
            "text/plain": [
              "<Figure size 432x288 with 1 Axes>"
            ]
          },
          "metadata": {
            "tags": [],
            "needs_background": "light"
          }
        }
      ]
    },
    {
      "cell_type": "markdown",
      "metadata": {
        "id": "CE5H5pQXnrEa"
      },
      "source": [
        "## Linalg lstsq"
      ]
    },
    {
      "cell_type": "code",
      "metadata": {
        "id": "5V2fiCOpWnOX",
        "colab": {
          "base_uri": "https://localhost:8080/"
        },
        "outputId": "84c6b894-8c89-40b1-adbc-95271f7016d6"
      },
      "source": [
        "A = np.vstack([X_train, np.ones(len(X_train))]).T\n",
        "# print(A)\n",
        "m, c = np.linalg.lstsq(A, y_train)[0]\n",
        "print(\"Slope:\",m)\n",
        "print(\"Intercept:\",c)"
      ],
      "execution_count": null,
      "outputs": [
        {
          "output_type": "stream",
          "text": [
            "Slope: 9.910656480642237\n",
            "Intercept: 2.0181600414346796\n"
          ],
          "name": "stdout"
        }
      ]
    },
    {
      "cell_type": "code",
      "metadata": {
        "colab": {
          "base_uri": "https://localhost:8080/"
        },
        "id": "b6exSMjLn2JT",
        "outputId": "e2d26bd1-d47c-4000-8422-62e41b3b6ad3"
      },
      "source": [
        "y_pred= m*X_test + c\n",
        "print(\"Predicted values:\",y_pred)\n",
        "print(\"Actual values:\",y_test)"
      ],
      "execution_count": null,
      "outputs": [
        {
          "output_type": "stream",
          "text": [
            "Predicted values: [16.88414476 33.73226078 75.357018   26.79480124 60.49103328]\n",
            "Actual values: [20 27 69 30 62]\n"
          ],
          "name": "stdout"
        }
      ]
    },
    {
      "cell_type": "code",
      "metadata": {
        "colab": {
          "base_uri": "https://localhost:8080/"
        },
        "id": "wLOYzh-et4cO",
        "outputId": "b4445983-d0c5-4f7a-a7c2-f9a0d63072b4"
      },
      "source": [
        "mse = mean_squared_error(y_test,y_pred)\n",
        "mae = mean_absolute_error(y_test,y_pred)\n",
        "print(\"MSE for Polyfit:\",mse)\n",
        "print(\"MAE for Polyfit:\",mae)"
      ],
      "execution_count": null,
      "outputs": [
        {
          "output_type": "stream",
          "text": [
            "MSE for Polyfit: 21.598769307217395\n",
            "MAE for Polyfit: 4.183859899002977\n"
          ],
          "name": "stdout"
        }
      ]
    },
    {
      "cell_type": "code",
      "metadata": {
        "colab": {
          "base_uri": "https://localhost:8080/",
          "height": 269
        },
        "id": "2hbsY9LdkHiQ",
        "outputId": "36afc7d2-c97b-4b23-c103-6ed046594976"
      },
      "source": [
        "import matplotlib.pyplot as plt\n",
        "plt.plot(X, y, 'o', label='Original data')\n",
        "plt.plot(X, m*X + c, 'r', label='Fitted line')\n",
        "plt.legend()\n",
        "plt.axis([0,11,0,100])\n",
        "plt.show()"
      ],
      "execution_count": null,
      "outputs": [
        {
          "output_type": "display_data",
          "data": {
            "image/png": "[encoded data removed]",
            "text/plain": [
              "<Figure size 432x288 with 1 Axes>"
            ]
          },
          "metadata": {
            "tags": [],
            "needs_background": "light"
          }
        }
      ]
    },
    {
      "cell_type": "code",
      "metadata": {
        "id": "NpIqhUIukHlV"
      },
      "source": [
        ""
      ],
      "execution_count": null,
      "outputs": []
    },
    {
      "cell_type": "code",
      "metadata": {
        "id": "A5CWN-TjkHoI"
      },
      "source": [
        ""
      ],
      "execution_count": null,
      "outputs": []
    },
    {
      "cell_type": "code",
      "metadata": {
        "id": "1FiePkdBkHq_"
      },
      "source": [
        ""
      ],
      "execution_count": null,
      "outputs": []
    },
    {
      "cell_type": "code",
      "metadata": {
        "id": "tud2h5CR-nlA"
      },
      "source": [
        ""
      ],
      "execution_count": null,
      "outputs": []
    },
    {
      "cell_type": "code",
      "metadata": {
        "id": "aWgcLgkm-nn_"
      },
      "source": [
        ""
      ],
      "execution_count": null,
      "outputs": []
    },
    {
      "cell_type": "code",
      "metadata": {
        "id": "N2iQcnwj-nqj"
      },
      "source": [
        ""
      ],
      "execution_count": null,
      "outputs": []
    },
    {
      "cell_type": "code",
      "metadata": {
        "id": "YNmv0q4L-ntg"
      },
      "source": [
        ""
      ],
      "execution_count": null,
      "outputs": []
    },
    {
      "cell_type": "code",
      "metadata": {
        "id": "f9FIYWcY-nvx"
      },
      "source": [
        ""
      ],
      "execution_count": null,
      "outputs": []
    },
    {
      "cell_type": "code",
      "metadata": {
        "id": "3C9rBjmP-ny7"
      },
      "source": [
        ""
      ],
      "execution_count": null,
      "outputs": []
    },
    {
      "cell_type": "code",
      "metadata": {
        "id": "3ej1ZTIx-n2C"
      },
      "source": [
        ""
      ],
      "execution_count": null,
      "outputs": []
    },
    {
      "cell_type": "code",
      "metadata": {
        "id": "fujauAG4-n4T"
      },
      "source": [
        "## Curve Fit"
      ],
      "execution_count": null,
      "outputs": []
    },
    {
      "cell_type": "code",
      "metadata": {
        "id": "A8dlLUZS-n7A"
      },
      "source": [
        "def test(x, a, b): \n",
        "    return b*x + a\n",
        "  \n",
        "param, param_cov = scipy.optimize.curve_fit(test, X_train, y_train)\n",
        "y_pred = param[0]+ param[1]*X_test\n",
        "print(\"Coefficient and slope\",param)\n",
        "print(\"Predictions:\",y_pred)\n",
        "print(\"Actual:\",y_test)\n",
        "\n",
        "from sklearn.metrics import r2_score\n",
        "print(\"R2 score:\",r2_score(y_test, y_pred))"
      ],
      "execution_count": null,
      "outputs": []
    },
    {
      "cell_type": "code",
      "metadata": {
        "id": "u3wkCKJ4-rPf"
      },
      "source": [
        "mse = mean_squared_error(y_test,y_pred)\n",
        "mae = mean_absolute_error(y_test,y_pred)\n",
        "print(\"MSE for Polyfit:\",mse)\n",
        "print(\"MAE for Polyfit:\",mae)"
      ],
      "execution_count": null,
      "outputs": []
    },
    {
      "cell_type": "code",
      "metadata": {
        "id": "0WRg0q_s-rTf"
      },
      "source": [
        "plt.plot(X_train, y_train, 'o', color ='red', label =\"data\") \n",
        "plt.plot(X_test, y_test, color ='blue', label =\"optimized data\") \n",
        "plt.axis([0,11,0,100])\n",
        "plt.legend() \n",
        "plt.show() "
      ],
      "execution_count": null,
      "outputs": []
    }
  ]
}